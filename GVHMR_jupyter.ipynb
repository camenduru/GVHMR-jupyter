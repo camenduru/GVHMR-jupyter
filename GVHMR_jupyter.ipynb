{
  "cells": [
    {
      "cell_type": "markdown",
      "metadata": {
        "id": "view-in-github"
      },
      "source": [
        "[![Open In Colab](https://colab.research.google.com/assets/colab-badge.svg)](https://colab.research.google.com/github/camenduru/GVHMR-jupyter/blob/main/GVHMR_jupyter.ipynb)"
      ]
    },
    {
      "cell_type": "code",
      "execution_count": null,
      "metadata": {
        "id": "VjYy0F2gZIPR"
      },
      "outputs": [],
      "source": [
        "%cd /content\n",
        "!git clone -b dev https://github.com/camenduru/GVHMR\n",
        "%cd /content/GVHMR\n",
        "\n",
        "%cd /content/GVHMR/third-party/DPVO\n",
        "!wget https://gitlab.com/libeigen/eigen/-/archive/3.4.0/eigen-3.4.0.zip\n",
        "!unzip eigen-3.4.0.zip -d thirdparty && rm -rf eigen-3.4.0.zip\n",
        "!pip install torch-scatter -f \"https://data.pyg.org/whl/torch-2.4.0+cu121.html\"\n",
        "\n",
        "!apt install -y -qq aria2\n",
        "!aria2c --console-log-level=error -c -x 16 -s 16 -k 1M https://huggingface.co/camenduru/SMPLer-X/resolve/main/SMPL_NEUTRAL.pkl -d /content/GVHMR/inputs/checkpoints/body_models/smpl -o SMPL_NEUTRAL.pkl\n",
        "!aria2c --console-log-level=error -c -x 16 -s 16 -k 1M https://huggingface.co/camenduru/SMPLer-X/resolve/main/SMPLX_NEUTRAL.npz -d /content/GVHMR/inputs/checkpoints/body_models/smplx -o SMPLX_NEUTRAL.npz\n",
        "!aria2c --console-log-level=error -c -x 16 -s 16 -k 1M https://huggingface.co/camenduru/GVHMR/resolve/main/dpvo/dpvo.pth -d /content/GVHMR/inputs/checkpoints/dpvo -o dpvo.pth\n",
        "!aria2c --console-log-level=error -c -x 16 -s 16 -k 1M https://huggingface.co/camenduru/GVHMR/resolve/main/gvhmr/gvhmr_siga24_release.ckpt -d /content/GVHMR/inputs/checkpoints/gvhmr -o gvhmr_siga24_release.ckpt\n",
        "!aria2c --console-log-level=error -c -x 16 -s 16 -k 1M https://huggingface.co/camenduru/GVHMR/resolve/main/hmr2/epoch%3D10-step%3D25000.ckpt -d /content/GVHMR/inputs/checkpoints/hmr2 -o epoch=10-step=25000.ckpt\n",
        "!aria2c --console-log-level=error -c -x 16 -s 16 -k 1M https://huggingface.co/camenduru/GVHMR/resolve/main/vitpose/vitpose-h-multi-coco.pth -d /content/GVHMR/inputs/checkpoints/vitpose -o vitpose-h-multi-coco.pth\n",
        "!aria2c --console-log-level=error -c -x 16 -s 16 -k 1M https://huggingface.co/camenduru/GVHMR/resolve/main/yolo/yolov8x.pt -d /content/GVHMR/inputs/checkpoints/yolo -o yolov8x.pt\n",
        "\n",
        "!mkdir /content/GVHMR/outputs\n",
        "\n",
        "!pip install numpy==1.23.5 lightning==2.3.0 hydra-core==1.3 hydra-zen hydra_colorlog rich ultralytics==8.2.42 cython_bbox lapx ffmpeg-python timm==0.9.12 av\n",
        "!pip install https://github.com/camenduru/wheels/releases/download/colab4/pytorch3d-0.7.8-cp310-cp310-linux_x86_64.whl trimesh chumpy smplx wis3d\n",
        "\n",
        "%cd /content/GVHMR\n",
        "!pip install -e ."
      ]
    },
    {
      "cell_type": "code",
      "execution_count": null,
      "metadata": {},
      "outputs": [],
      "source": [
        "%cd /content/GVHMR\n",
        "!python /content/GVHMR/tools/demo/demo.py --video=/content/GVHMR/docs/example_video/tennis.mp4 -s"
      ]
    }
  ],
  "metadata": {
    "accelerator": "GPU",
    "colab": {
      "gpuType": "T4",
      "provenance": []
    },
    "kernelspec": {
      "display_name": "Python 3",
      "name": "python3"
    },
    "language_info": {
      "name": "python"
    }
  },
  "nbformat": 4,
  "nbformat_minor": 0
}
